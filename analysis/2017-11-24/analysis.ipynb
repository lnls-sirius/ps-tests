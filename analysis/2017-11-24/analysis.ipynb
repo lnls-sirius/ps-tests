{
 "cells": [
  {
   "cell_type": "code",
   "execution_count": 1,
   "metadata": {
    "collapsed": true
   },
   "outputs": [],
   "source": [
    "import matplotlib\n",
    "import matplotlib.pyplot as plt\n",
    "import importlib as ilib\n",
    "import matplotlib.font_manager as font_manager\n",
    "from ps_ramp_tests import analysis as a\n",
    "fnames = [\n",
    "    '/home/fac_files/lnls-sirius/ps-tests/data/test1_17-09-19_1459.txt',\n",
    "    '/home/fac_files/lnls-sirius/ps-tests/data/test8_17-11-13_1005.txt',\n",
    "]\n",
    "matplotlib.rcParams.update({'font.size': 22})"
   ]
  },
  {
   "cell_type": "markdown",
   "metadata": {},
   "source": [
    "# Read data from files"
   ]
  },
  {
   "cell_type": "code",
   "execution_count": 2,
   "metadata": {},
   "outputs": [
    {
     "name": "stdout",
     "output_type": "stream",
     "text": [
      "data file            : /home/fac_files/lnls-sirius/ps-tests/data/test1_17-09-19_1459.txt\n",
      "sample rate   [kHz]  : 50.0\n",
      "number of points     : 500000\n",
      "time interval [s]    : 10.0\n",
      "number of signals    : 4\n",
      "index of sync signal : 3\n",
      "data file            : /home/fac_files/lnls-sirius/ps-tests/data/test8_17-11-13_1005.txt\n",
      "sample rate   [kHz]  : 50.0\n",
      "number of points     : 500000\n",
      "time interval [s]    : 10.0\n",
      "number of signals    : 4\n",
      "index of sync signal : 3\n"
     ]
    }
   ],
   "source": [
    "data0 = a.read_data(fname=fnames[0], print_flag=True)\n",
    "data0 = a.add_sync_upborder(data0)\n",
    "\n",
    "data1 = a.read_data(fname=fnames[1], print_flag=True)\n",
    "data1 = a.add_sync_upborder(data1)"
   ]
  },
  {
   "cell_type": "markdown",
   "metadata": {},
   "source": [
    "# Ramp plot"
   ]
  },
  {
   "cell_type": "code",
   "execution_count": 17,
   "metadata": {},
   "outputs": [
    {
     "data": {
      "text/plain": [
       "<matplotlib.legend.Legend at 0x7f64de9b9710>"
      ]
     },
     "execution_count": 17,
     "metadata": {},
     "output_type": "execute_result"
    }
   ],
   "source": [
    "%matplotlib qt5\n",
    "\n",
    "# Set the font dictionaries (for plot title and axis titles)\n",
    "title_font = {'size':'24', 'color':'black', 'weight':'normal',\n",
    "              'verticalalignment':'bottom'} # Bottom vertical alignment for more space\n",
    "axis_font = {'size':'22'}\n",
    "\n",
    "# Set the font properties (for use in legend)   \n",
    "font_path = 'C:\\Windows\\Fonts\\Arial.ttf'\n",
    "font_prop = font_manager.FontProperties(size=18)\n",
    "\n",
    "\n",
    "i0=21170+3000; plt.plot(data1[i0:i0+100,0]-0.0674, 'bo-', label='4000 pts')\n",
    "i0=21170+3000; plt.plot(data0[i0:i0+100,0], 'ro-', label='2000 pts')\n",
    "plt.tick_params(axis='both', which='major', labelsize=20)\n",
    "plt.grid(True)\n",
    "plt.xlabel('Aquisition point index', **axis_font)\n",
    "plt.ylabel('Current [A]', **axis_font)\n",
    "plt.title(\"Ramp Comparison\", **title_font)\n",
    "plt.legend(prop=font_prop, numpoints=1)\n"
   ]
  }
 ],
 "metadata": {
  "kernelspec": {
   "display_name": "Python 3",
   "language": "python",
   "name": "python3"
  },
  "language_info": {
   "codemirror_mode": {
    "name": "ipython",
    "version": 3
   },
   "file_extension": ".py",
   "mimetype": "text/x-python",
   "name": "python",
   "nbconvert_exporter": "python",
   "pygments_lexer": "ipython3",
   "version": "3.6.1"
  }
 },
 "nbformat": 4,
 "nbformat_minor": 2
}
